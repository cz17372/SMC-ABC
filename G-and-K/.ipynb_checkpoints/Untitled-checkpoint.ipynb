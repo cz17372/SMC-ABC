{
 "cells": [
  {
   "cell_type": "code",
   "execution_count": 5,
   "id": "125d93b0",
   "metadata": {},
   "outputs": [
    {
     "name": "stderr",
     "output_type": "stream",
     "text": [
      "┌ Info: Precompiling ForwardDiff [f6369f11-7733-5829-9624-2563aa707210]\n",
      "└ @ Base loading.jl:1317\n"
     ]
    }
   ],
   "source": [
    "using Distributions, Random, LinearAlgebra\n",
    "using ForwardDiff:gradient"
   ]
  },
  {
   "cell_type": "markdown",
   "id": "2e374c87",
   "metadata": {},
   "source": []
  },
  {
   "cell_type": "code",
   "execution_count": 8,
   "id": "290ddd90",
   "metadata": {},
   "outputs": [
    {
     "data": {
      "text/plain": [
       "Euclidean"
      ]
     },
     "execution_count": 8,
     "metadata": {},
     "output_type": "execute_result"
    }
   ],
   "source": [
    "\"\"\"\n",
    "    Euclidean(x;y)\n",
    "\"\"\"\n",
    "Euclidean(x;y) = norm(g(x) .- y)"
   ]
  },
  {
   "cell_type": "code",
   "execution_count": 9,
   "id": "d5b710bb",
   "metadata": {},
   "outputs": [
    {
     "name": "stdout",
     "output_type": "stream",
     "text": [
      "search: \u001b[0m\u001b[1mE\u001b[22m\u001b[0m\u001b[1mu\u001b[22m\u001b[0m\u001b[1mc\u001b[22m\u001b[0m\u001b[1ml\u001b[22m\u001b[0m\u001b[1mi\u001b[22m\u001b[0m\u001b[1md\u001b[22m\u001b[0m\u001b[1me\u001b[22m\u001b[0m\u001b[1ma\u001b[22m\u001b[0m\u001b[1mn\u001b[22m\n",
      "\n"
     ]
    },
    {
     "data": {
      "text/latex": [
       "\\begin{verbatim}\n",
       "Euclidean(x;y)\n",
       "\\end{verbatim}\n"
      ],
      "text/markdown": [
       "```\n",
       "Euclidean(x;y)\n",
       "```\n"
      ],
      "text/plain": [
       "\u001b[36m  Euclidean(x;y)\u001b[39m"
      ]
     },
     "execution_count": 9,
     "metadata": {},
     "output_type": "execute_result"
    }
   ],
   "source": []
  },
  {
   "cell_type": "code",
   "execution_count": null,
   "id": "ef1ee16f",
   "metadata": {},
   "outputs": [],
   "source": []
  }
 ],
 "metadata": {
  "kernelspec": {
   "display_name": "Julia 1.6.1",
   "language": "julia",
   "name": "julia-1.6"
  },
  "language_info": {
   "file_extension": ".jl",
   "mimetype": "application/julia",
   "name": "julia",
   "version": "1.6.1"
  }
 },
 "nbformat": 4,
 "nbformat_minor": 5
}

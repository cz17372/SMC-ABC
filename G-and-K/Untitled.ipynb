{
 "cells": [
  {
   "cell_type": "code",
   "execution_count": 1,
   "id": "125d93b0",
   "metadata": {},
   "outputs": [],
   "source": [
    "using Distributions, Random, LinearAlgebra\n",
    "using ForwardDiff:gradient"
   ]
  },
  {
   "cell_type": "code",
   "execution_count": 6,
   "id": "d5b710bb",
   "metadata": {},
   "outputs": [
    {
     "output_type": "execute_result",
     "data": {
      "text/plain": [
       "1"
      ]
     },
     "metadata": {},
     "execution_count": 6
    }
   ],
   "source": []
  },
  {
   "cell_type": "code",
   "execution_count": null,
   "id": "ef1ee16f",
   "metadata": {},
   "outputs": [],
   "source": []
  }
 ],
 "metadata": {
  "kernelspec": {
   "display_name": "Julia 1.6.1",
   "language": "julia",
   "name": "julia-1.6"
  },
  "language_info": {
   "file_extension": ".jl",
   "mimetype": "application/julia",
   "name": "julia",
   "version": "1.6.1"
  }
 },
 "nbformat": 4,
 "nbformat_minor": 5
}